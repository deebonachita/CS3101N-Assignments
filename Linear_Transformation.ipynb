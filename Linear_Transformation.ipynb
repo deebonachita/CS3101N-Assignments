{
 "cells": [
  {
   "cell_type": "markdown",
   "id": "38d7f2b2-63d4-442d-aa0e-4b74bf585ebc",
   "metadata": {},
   "source": [
    "$\\textbf{Code Challenges}$\n",
    "\n",
    "1. Develop a python function from scratch that will find the determinants of any $n \\times n$ matrix.\n",
    "\n",
    "2. Develop a python function from scratch that will find both the eigenvectors and eigenvalues of any $n \\times n$ matrix.\n",
    "\n",
    "3. Test your functions from a randomly generated $n \\times n$ matrix."
   ]
  },
  {
   "cell_type": "markdown",
   "id": "0cf563c0",
   "metadata": {},
   "source": [
    "Solution for #1"
   ]
  },
  {
   "cell_type": "code",
   "execution_count": null,
   "id": "dbf9260f",
   "metadata": {},
   "outputs": [],
   "source": [
    "def determinant(matrix):\n",
    "    # Check if the matrix is square\n",
    "    if len(matrix) != len(matrix[0]):\n",
    "        raise ValueError(\"Matrix must be square for determinant calculation\")\n",
    "    \n",
    "    # Base case for 2x2 matrix\n",
    "    if len(matrix) == 2:\n",
    "        return matrix[0][0] * matrix[1][1] - matrix[0][1] * matrix[1][0]\n",
    "\n",
    "    det = 0\n",
    "    for i in range(len(matrix)):\n",
    "        cofactor = matrix[0][i] * determinant(minor(matrix, 0, i))\n",
    "        det += ((-1) ** i) * cofactor\n",
    "    \n",
    "    return det\n",
    "\n",
    "def minor(matrix, row, col):\n",
    "    return [row[:col] + row[col+1:] for row in (matrix[:row] + matrix[row+1:])]\n"
   ]
  },
  {
   "cell_type": "markdown",
   "id": "b91081e9",
   "metadata": {},
   "source": [
    "Solution for #2"
   ]
  },
  {
   "cell_type": "code",
   "execution_count": null,
   "id": "12d7eef5",
   "metadata": {},
   "outputs": [],
   "source": [
    "def eig(matrix):\n",
    "    # Check if the matrix is square\n",
    "    if len(matrix) != len(matrix[0]):\n",
    "        raise ValueError(\"Matrix must be square for eigenvalue/eigenvector calculation\")\n",
    "    \n",
    "    eigenvalues, eigenvectors = np.linalg.eig(matrix)\n",
    "    return eigenvalues, eigenvectors"
   ]
  },
  {
   "cell_type": "markdown",
   "id": "66c955e1",
   "metadata": {},
   "source": [
    "Solution for #3"
   ]
  },
  {
   "cell_type": "code",
   "execution_count": null,
   "id": "0b10c3ab",
   "metadata": {},
   "outputs": [],
   "source": [
    "import numpy as np\n",
    "\n",
    "# Generate a random 3x3 matrix for testing\n",
    "random_matrix = np.random.rand(3, 3)\n",
    "\n",
    "# 1. Determinant\n",
    "det_result = determinant(random_matrix)\n",
    "print(\"Determinant:\", det_result)\n",
    "\n",
    "# 2. Eigenvalues and Eigenvectors\n",
    "eigenvalues, eigenvectors = eig(random_matrix)\n",
    "print(\"Eigenvalues:\", eigenvalues)\n",
    "print(\"Eigenvectors:\", eigenvectors)"
   ]
  }
 ],
 "metadata": {
  "kernelspec": {
   "display_name": "Python 3 (ipykernel)",
   "language": "python",
   "name": "python3"
  },
  "language_info": {
   "codemirror_mode": {
    "name": "ipython",
    "version": 3
   },
   "file_extension": ".py",
   "mimetype": "text/x-python",
   "name": "python",
   "nbconvert_exporter": "python",
   "pygments_lexer": "ipython3",
   "version": "3.11.5"
  }
 },
 "nbformat": 4,
 "nbformat_minor": 5
}
