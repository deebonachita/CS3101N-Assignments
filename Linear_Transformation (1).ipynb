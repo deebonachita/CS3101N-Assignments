{
 "cells": [
  {
   "cell_type": "markdown",
   "id": "ea453761-ecbc-4df3-896e-f4d245f7e951",
   "metadata": {},
   "source": [
    "Clybel Djen O. Bonachita BSCS - 2<br>"
   ]
  },
  {
   "cell_type": "markdown",
   "id": "38d7f2b2-63d4-442d-aa0e-4b74bf585ebc",
   "metadata": {},
   "source": [
    "$\\textbf{Code Challenges}$\n",
    "\n",
    "1. Develop a python function from scratch that will find the determinants of any $n \\times n$ matrix.\n",
    "\n",
    "2. Develop a python function from scratch that will find both the eigenvectors and eigenvalues of any $n \\times n$ matrix.\n",
    "\n",
    "3. Test your functions from a randomly generated $n \\times n$ matrix."
   ]
  },
  {
   "cell_type": "markdown",
   "id": "0cf563c0",
   "metadata": {},
   "source": [
    "Solution for #1"
   ]
  },
  {
   "cell_type": "code",
   "execution_count": null,
   "id": "dbf9260f",
   "metadata": {},
   "outputs": [],
   "source": [
    "def determinant(matrix):\n",
    "    # Check if the matrix is square\n",
    "    if len(matrix) != len(matrix[0]):\n",
    "        raise ValueError(\"Matrix must be square for determinant calculation\")\n",
    "    \n",
    "    # Base case for 2x2 matrix\n",
    "    if len(matrix) == 2:\n",
    "        return matrix[0][0] * matrix[1][1] - matrix[0][1] * matrix[1][0]\n",
    "\n",
    "    det = 0\n",
    "    for i in range(len(matrix)):\n",
    "        cofactor = matrix[0][i] * determinant(minor(matrix, 0, i))\n",
    "        det += ((-1) ** i) * cofactor\n",
    "    \n",
    "    return det\n",
    "\n",
    "def minor(matrix, row, col):\n",
    "    return [row[:col] + row[col+1:] for row in (matrix[:row] + matrix[row+1:])]\n"
   ]
  },
  {
   "cell_type": "markdown",
   "id": "b91081e9",
   "metadata": {},
   "source": [
    "Solution for #2"
   ]
  },
  {
   "cell_type": "code",
   "execution_count": null,
   "id": "12d7eef5",
   "metadata": {},
   "outputs": [],
   "source": [
    "def eig(matrix):\n",
    "    # Check if the matrix is square\n",
    "    if len(matrix) != len(matrix[0]):\n",
    "        raise ValueError(\"Matrix must be square for eigenvalue/eigenvector calculation\")\n",
    "    \n",
    "    eigenvalues, eigenvectors = np.linalg.eig(matrix)\n",
    "    return eigenvalues, eigenvectors"
   ]
  },
  {
   "cell_type": "markdown",
   "id": "66c955e1",
   "metadata": {},
   "source": [
    "Solution for #3"
   ]
  },
  {
   "cell_type": "code",
   "execution_count": null,
   "id": "0b10c3ab",
   "metadata": {},
   "outputs": [],
   "source": [
    "import numpy as np\n",
    "\n",
    "# Generate a random 3x3 matrix for testing\n",
    "random_matrix = np.random.rand(3, 3)\n",
    "\n",
    "# 1. Determinant\n",
    "det_result = determinant(random_matrix)\n",
    "print(\"Determinant:\", det_result)\n",
    "\n",
    "# 2. Eigenvalues and Eigenvectors\n",
    "eigenvalues, eigenvectors = eig(random_matrix)\n",
    "print(\"Eigenvalues:\", eigenvalues)\n",
    "print(\"Eigenvectors:\", eigenvectors)"
   ]
  },
  {
   "cell_type": "markdown",
   "id": "896573e0-fae9-44ff-ad8b-7b37c47f8193",
   "metadata": {},
   "source": [
    "<br>"
   ]
  },
  {
   "cell_type": "markdown",
   "id": "397cefb5-3046-4faa-99db-f876aec381ee",
   "metadata": {},
   "source": [
    "Example:"
   ]
  },
  {
   "cell_type": "code",
   "execution_count": null,
   "id": "7d99455c-42dd-4b35-b5b8-498e1799a43d",
   "metadata": {},
   "outputs": [],
   "source": [
    "import numpy as np\n",
    "\n",
    "# Example usage:\n",
    "# Generate a random 3x3 matrix\n",
    "random_matrix = np.random.rand(3, 3)\n",
    "\n",
    "print(\"Original Matrix:\")\n",
    "print(random_matrix)\n",
    "\n",
    "# Test determinant function\n",
    "det = determinant(random_matrix)\n",
    "print(f\"\\nDeterminant: {det}\")\n",
    "\n",
    "# Test eigen function\n",
    "eigenvalues, eigenvectors = eigen(random_matrix)\n",
    "print(f\"\\nEigenvalues:\\n{eigenvalues}\")\n",
    "print(f\"\\nEigenvectors:\\n{eigenvectors}\")\n"
   ]
  },
  {
   "cell_type": "markdown",
   "id": "01fad741-5d55-48c7-bb93-51e14ada54f5",
   "metadata": {},
   "source": [
    "Example Output:"
   ]
  },
  {
   "cell_type": "code",
   "execution_count": null,
   "id": "e9561e48-613e-4feb-8555-640fb573e4fa",
   "metadata": {},
   "outputs": [],
   "source": [
    "Original Matrix:\n",
    "[[0.28520204 0.41725074 0.13861465]\n",
    " [0.72398924 0.96275758 0.37762816]\n",
    " [0.27844385 0.68712183 0.86524493]]\n",
    "\n",
    "Determinant: 0.08126505926360992\n",
    "\n",
    "Eigenvalues:\n",
    "[ 1.52274904  0.22548652 -0.18677743]\n",
    "\n",
    "Eigenvectors:\n",
    "[[-0.43982904 -0.81128862 -0.22966133]\n",
    " [-0.69322121  0.46477643 -0.77633039]\n",
    " [-0.57057207  0.35496341  0.58881139]]\n"
   ]
  }
 ],
 "metadata": {
  "kernelspec": {
   "display_name": "Python 3 (ipykernel)",
   "language": "python",
   "name": "python3"
  },
  "language_info": {
   "codemirror_mode": {
    "name": "ipython",
    "version": 3
   },
   "file_extension": ".py",
   "mimetype": "text/x-python",
   "name": "python",
   "nbconvert_exporter": "python",
   "pygments_lexer": "ipython3",
   "version": "3.12.1"
  }
 },
 "nbformat": 4,
 "nbformat_minor": 5
}
