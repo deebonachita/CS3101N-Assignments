{
 "cells": [
  {
   "cell_type": "markdown",
   "id": "33bb413c",
   "metadata": {},
   "source": [
    "CLYBEL DJEN BONACHITA - BSCS 2"
   ]
  },
  {
   "cell_type": "markdown",
   "id": "0a4f16a7",
   "metadata": {},
   "source": [
    "# Assignment\n",
    "---\n",
    "Instructions:<br>\n",
    "1. Create a folder in your github account titled Intro_Vectors.<br>\n",
    "2. Use Jupyterhub notebook to answer the problems.<br>\n",
    "3. Rename Jupyter notebook to Intro_Vectors.ipynb.<br>\n",
    "4. Show both manual and pythonic solutions.<br>\n",
    "5. For manual solutions write it in Latex format.<br>"
   ]
  },
  {
   "cell_type": "markdown",
   "id": "f5140df7",
   "metadata": {},
   "source": [
    "1. Let $\\textbf{u} = (1, -2, 4)$ and $\\textbf{v} = (3,5,1)$ $\\textbf{w} = (2,1,-3)$ find:<br>\n",
    "a. $3\\textbf{u}-2\\textbf{v}$<br>\n",
    "b. $5\\textbf{u}+3\\textbf{v}-4\\textbf{w}$<br>\n",
    "c. $\\textbf{u} \\cdotp \\textbf{v}$,$\\textbf{v} \\cdotp \\textbf{w}$, $\\textbf{u} \\cdotp \\textbf{w}$<br>\n",
    "d. ||$\\textbf{u}||, ||$\\textbf{v}||, ||$\\textbf{w}$||<br>\n",
    "e. If $\\theta$ is the angle between $\\textbf{u}$  and   $\\textbf{v}$, find $\\cos{\\theta}$.<br>\n",
    "f. If $\\alpha$ is the angle between $\\textbf{v}$  and   $\\textbf{w}$, find $\\cos{\\alpha}$.<br>\n",
    "g. If $\\beta$ is the angle between $\\textbf{u}$  and   $\\textbf{w}$, find $\\cos{\\beta}$.<br>\n",
    "h. Find $d(\\textbf{u},\\textbf{v})$.<br>\n",
    "i. Find $d(\\textbf{w},\\textbf{v})$.<br>\n",
    "j. Find $d(\\textbf{u},\\textbf{w})$. <br>\n",
    "k. Find $proj(\\textbf{u},\\textbf{v})$.<br>\n",
    "l. Find $proj(\\textbf{w},\\textbf{v})$.<br>\n",
    "m. Find $proj(\\textbf{u},\\textbf{w})$. <br>  "
   ]
  },
  {
   "cell_type": "markdown",
   "id": "c882e733",
   "metadata": {},
   "source": [
    "-- Pythonic Solution --"
   ]
  },
  {
   "cell_type": "code",
   "execution_count": null,
   "id": "86f407a9",
   "metadata": {},
   "outputs": [],
   "source": [
    "import numpy as np\n",
    "\n",
    "# Define the vectors\n",
    "u = np.array([1, -2, 4])\n",
    "v = np.array([3, 5, 1])\n",
    "w = np.array([2, 1, -3])\n",
    "\n",
    "# a. 3u - 2v\n",
    "result_a = 3*u - 2*v\n",
    "print(\"a. 3u - 2v:\", result_a)\n",
    "\n",
    "# b. 5u + 3v - 4w\n",
    "result_b = 5*u + 3*v - 4*w\n",
    "print(\"b. 5u + 3v - 4w:\", result_b)\n",
    "\n",
    "# c. u*v, v*w, u*w\n",
    "result_c_u_v = np.dot(u, v)\n",
    "result_c_v_w = np.dot(v, w)\n",
    "result_c_u_w = np.dot(u, w)\n",
    "print(\"c. u*v, v*w, u*w:\", result_c_u_v, result_c_v_w, result_c_u_w)\n",
    "\n",
    "# d. ||u||, ||v||, ||w||\n",
    "norm_u = np.linalg.norm(u)\n",
    "norm_v = np.linalg.norm(v)\n",
    "norm_w = np.linalg.norm(w)\n",
    "print(\"d. ||u||, ||v||, ||w||:\", norm_u, norm_v, norm_w)\n",
    "\n",
    "# e. Cosine of the angle between u and v\n",
    "cos_theta = np.dot(u, v) / (np.linalg.norm(u) * np.linalg.norm(v))\n",
    "print(\"e. Cosine of the angle between u and v:\", cos_theta)\n",
    "\n",
    "# f. Cosine of the angle between v and w\n",
    "cos_alpha = np.dot(v, w) / (np.linalg.norm(v) * np.linalg.norm(w))\n",
    "print(\"f. Cosine of the angle between v and w:\", cos_alpha)\n",
    "\n",
    "# g. Cosine of the angle between u and w\n",
    "cos_beta = np.dot(u, w) / (np.linalg.norm(u) * np.linalg.norm(w))\n",
    "print(\"g. Cosine of the angle between u and w:\", cos_beta)\n",
    "\n",
    "# h. Distance between u and v\n",
    "dist_uv = np.linalg.norm(u - v)\n",
    "print(\"h. Distance between u and v:\", dist_uv)\n",
    "\n",
    "# i. Distance between w and v\n",
    "dist_wv = np.linalg.norm(w - v)\n",
    "print(\"i. Distance between w and v:\", dist_wv)\n",
    "\n",
    "# j. Distance between u and w\n",
    "dist_uw = np.linalg.norm(u - w)\n",
    "print(\"j. Distance between u and w:\", dist_uw)\n",
    "\n",
    "# k. Projection of u onto v\n",
    "proj_uv = np.dot(u, v) / np.linalg.norm(v) * v\n",
    "print(\"k. Projection of u onto v:\", proj_uv)\n",
    "\n",
    "# l. Projection of w onto v\n",
    "proj_wv = np.dot(w, v) / np.linalg.norm(v) * v\n",
    "print(\"l. Projection of w onto v:\", proj_wv)\n",
    "\n",
    "# m. Projection of u onto w\n",
    "proj_uw = np.dot(u, w) / np.linalg.norm(w) * w\n",
    "print(\"m. Projection of u onto w:\", proj_uw)\n"
   ]
  },
  {
   "cell_type": "markdown",
   "id": "2d247943",
   "metadata": {},
   "source": [
    "-- Latex Format --"
   ]
  },
  {
   "cell_type": "markdown",
   "id": "e27f0bc2",
   "metadata": {},
   "source": [
    "a. $3\\mathbf{u} - 2\\mathbf{v} = \\begin{bmatrix} -3 \\\\ -16 \\\\ 10 \\end{bmatrix}$\n",
    "\n",
    "b. $5\\mathbf{u} + 3\\mathbf{v} - 4\\mathbf{w} = \\begin{bmatrix} -15 \\\\ -29 \\\\ 35 \\end{bmatrix}$\n",
    "\n",
    "c. $\\mathbf{u} \\cdot \\mathbf{v} = -3$, $\\mathbf{v} \\cdot \\mathbf{w} = 8$, $\\mathbf{u} \\cdot \\mathbf{w} = -12$\n"
   ]
  },
  {
   "cell_type": "markdown",
   "id": "e1409f10",
   "metadata": {},
   "source": [
    "<br><br>2. Repeat problem 1 with the following column vectors:\n",
    "\\begin{align}\n",
    "    \\textbf{u} &= \\begin{bmatrix}\n",
    "           1 \\\\\n",
    "           3 \\\\\n",
    "           -4\n",
    "         \\end{bmatrix}, \\textbf{v} = \\begin{bmatrix}\n",
    "           2 \\\\\n",
    "           1 \\\\\n",
    "           5\n",
    "         \\end{bmatrix}, \\textbf{w} = \\begin{bmatrix}\n",
    "           3 \\\\\n",
    "           -2 \\\\\n",
    "           6\n",
    "         \\end{bmatrix}\n",
    "  \\end{align}\n",
    "<br>"
   ]
  },
  {
   "cell_type": "markdown",
   "id": "5028fb29",
   "metadata": {},
   "source": [
    "-- Pythonic Solution --"
   ]
  },
  {
   "cell_type": "code",
   "execution_count": null,
   "id": "a9b7ec5c",
   "metadata": {},
   "outputs": [],
   "source": [
    "# Define the new vectors\n",
    "u_new = np.array([1, 3, -4])\n",
    "v_new = np.array([2, 1, 5])\n",
    "w_new = np.array([3, -2, 6])\n",
    "\n",
    "# a. 3u - 2v\n",
    "result_a_new = 3*u_new - 2*v_new\n",
    "print(\"a. 3u - 2v (new vectors):\", result_a_new)\n",
    "\n",
    "# b. 5u + 3v - 4w\n",
    "result_b_new = 5*u_new + 3*v_new - 4*w_new\n",
    "print(\"b. 5u + 3v - 4w (new vectors):\", result_b_new)\n",
    "\n",
    "# c. u*v, v*w, u*w\n",
    "result_c_u_v_new = np.dot(u_new, v_new)\n",
    "result_c_v_w_new = np.dot(v_new, w_new)\n",
    "result_c_u_w_new = np.dot(u_new, w_new)\n",
    "print(\"c. u*v, v*w, u*w (new vectors):\", result_c_u_v_new, result_c_v_w_new, result_c_u_w_new)\n",
    "\n",
    "# d. ||u||, ||v||, ||w||\n",
    "norm_u_new = np.linalg.norm(u_new)\n",
    "norm_v_new = np.linalg.norm(v_new)\n",
    "norm_w_new = np.linalg.norm(w_new)\n",
    "print(\"d. ||u||, ||v||, ||w|| (new vectors):\", norm_u_new, norm_v_new, norm_w_new)\n",
    "\n",
    "# e. Cosine of the angle between u and v\n",
    "cos_theta_new = np.dot(u_new, v_new) / (np.linalg.norm(u_new) * np.linalg.norm(v_new))\n",
    "print(\"e. Cosine of the angle between u and v (new vectors):\", cos_theta_new)\n",
    "\n",
    "# f. Cosine of the angle between v and w\n",
    "cos_alpha_new = np.dot(v_new, w_new) / (np.linalg.norm(v_new) * np.linalg.norm(w_new))\n",
    "print(\"f. Cosine of the angle between v and w (new vectors):\", cos_alpha_new)\n",
    "\n",
    "# g. Cosine of the angle between u and w\n",
    "cos_beta_new = np.dot(u_new, w_new) / (np.linalg.norm(u_new) * np.linalg.norm(w_new))\n",
    "print(\"g. Cosine of the angle between u and w (new vectors):\", cos_beta_new)\n",
    "\n",
    "# h. Distance between u and v\n",
    "dist_uv_new = np.linalg.norm(u_new - v_new)\n",
    "print(\"h. Distance between u and v (new vectors):\", dist_uv_new)\n",
    "\n",
    "# i. Distance between w and v\n",
    "dist_wv_new = np.linalg.norm(w_new - v_new)\n",
    "print(\"i. Distance between w and v (new vectors):\", dist_wv_new)\n",
    "\n",
    "# j. Distance between u and w\n",
    "dist_uw_new = np.linalg.norm(u_new - w_new)\n",
    "print(\"j. Distance between u and w (new vectors):\", dist_uw_new)\n",
    "\n",
    "# k. Projection of u onto v\n",
    "proj_uv_new = np.dot(u_new, v_new) / np.linalg.norm(v_new)**2 * v_new\n",
    "print(\"k. Projection of u onto v (new vectors):\", proj_uv_new)\n",
    "\n",
    "# l. Projection of w onto v\n",
    "proj_wv_new = np.dot(w_new, v_new) / np.linalg.norm(v_new)**2 * v_new\n",
    "print(\"l. Projection of w onto v (new vectors):\", proj_wv_new)\n",
    "\n",
    "# m. Projection of u onto w\n",
    "proj_uw_new = np.dot(u_new, w_new) / np.linalg.norm(w_new)**2 * w_new\n",
    "print(\"m. Projection of u onto w (new vectors):\", proj_uw_new)"
   ]
  },
  {
   "cell_type": "markdown",
   "id": "56d60a78",
   "metadata": {},
   "source": [
    "-- Latex Format --"
   ]
  },
  {
   "cell_type": "markdown",
   "id": "4b87d76a",
   "metadata": {},
   "source": []
  },
  {
   "cell_type": "markdown",
   "id": "da554299",
   "metadata": {},
   "source": [
    "<br><br>3. Let $\\textbf{u} = (2,-5,4,6,-3)$, $\\textbf{v} = (5,-2,1,-7,-4)$, and $\\textbf{w} = (2,1,-3)$ find:<br>\n",
    "a. $4\\textbf{u}-3\\textbf{v}$<br>\n",
    "b. $5\\textbf{u}+2\\textbf{v}-2\\textbf{w}$<br>\n",
    "c. $\\textbf{u} \\cdotp \\textbf{v}$,$\\textbf{v} \\cdotp \\textbf{w}$, $\\textbf{u} \\cdotp \\textbf{w}$<br>\n",
    "d. ||$\\textbf{u}$||, ||$\\textbf{v}$||, ||$\\textbf{w}$||<br>\n",
    "e. If $\\theta$ is the angle between $\\textbf{u}$  and   $\\textbf{v}$, find $\\cos{\\theta}$.<br>\n",
    "f. If $\\alpha$ is the angle between $\\textbf{v}$  and   $\\textbf{w}$, find $\\cos{\\alpha}$.<br>\n",
    "g. If $\\beta$ is the angle between $\\textbf{u}$  and   $\\textbf{w}$, find $\\cos{\\beta}$.<br>\n",
    "h. Find $d(\\textbf{u},\\textbf{v})$.<br>\n",
    "i. Find $d(\\textbf{w},\\textbf{v})$.<br>\n",
    "j. Find $d(\\textbf{u},\\textbf{w})$. <br>\n",
    "k. Find $proj(\\textbf{u},\\textbf{v})$.<br>\n",
    "l. Find $proj(\\textbf{w},\\textbf{v})$.<br>\n",
    "m. Find $proj(\\textbf{u},\\textbf{w})$. <br> \n",
    "<br>"
   ]
  },
  {
   "cell_type": "markdown",
   "id": "524bbe06",
   "metadata": {},
   "source": [
    "-- Pythonic Solution --"
   ]
  },
  {
   "cell_type": "code",
   "execution_count": null,
   "id": "79a3f24c",
   "metadata": {},
   "outputs": [],
   "source": [
    "import numpy as np\n",
    "\n",
    "# Define the vectors\n",
    "u = np.array([2, -5, 4, 6, -3])\n",
    "v = np.array([5, -2, 1, -7, -4])\n",
    "w = np.array([2, 1, -3])\n",
    "\n",
    "# a. 4u - 3v\n",
    "result_a = 4*u - 3*v\n",
    "print(\"a. 4u - 3v:\", result_a)\n",
    "\n",
    "# b. 5u + 2v - 2w\n",
    "result_b = 5*u + 2*v - 2*w\n",
    "print(\"b. 5u + 2v - 2w:\", result_b)\n",
    "\n",
    "# c. u*v, v*w, u*w\n",
    "result_c_u_v = np.dot(u, v)\n",
    "result_c_v_w = np.dot(v, w)\n",
    "result_c_u_w = np.dot(u, w)\n",
    "print(\"c. u*v, v*w, u*w:\", result_c_u_v, result_c_v_w, result_c_u_w)\n",
    "\n",
    "# d. ||u||, ||v||, ||w||\n",
    "norm_u = np.linalg.norm(u)\n",
    "norm_v = np.linalg.norm(v)\n",
    "norm_w = np.linalg.norm(w)\n",
    "print(\"d. ||u||, ||v||, ||w||:\", norm_u, norm_v, norm_w)\n",
    "\n",
    "# e. Cosine of the angle between u and v\n",
    "cos_theta = np.dot(u, v) / (np.linalg.norm(u) * np.linalg.norm(v))\n",
    "print(\"e. Cosine of the angle between u and v:\", cos_theta)\n",
    "\n",
    "# f. Cosine of the angle between v and w\n",
    "cos_alpha = np.dot(v, w) / (np.linalg.norm(v) * np.linalg.norm(w))\n",
    "print(\"f. Cosine of the angle between v and w:\", cos_alpha)\n",
    "\n",
    "# g. Cosine of the angle between u and w\n",
    "cos_beta = np.dot(u, w) / (np.linalg.norm(u) * np.linalg.norm(w))\n",
    "print(\"g. Cosine of the angle between u and w:\", cos_beta)\n",
    "\n",
    "# h. Distance between u and v\n",
    "dist_uv = np.linalg.norm(u - v)\n",
    "print(\"h. Distance between u and v:\", dist_uv)\n",
    "\n",
    "# i. Distance between w and v\n",
    "dist_wv = np.linalg.norm(w - v)\n",
    "print(\"i. Distance between w and v:\", dist_wv)\n",
    "\n",
    "# j. Distance between u and w\n",
    "dist_uw = np.linalg.norm(u - w)\n",
    "print(\"j. Distance between u and w:\", dist_uw)\n",
    "\n",
    "# k. Projection of u onto v\n",
    "proj_uv = np.dot(u, v) / np.linalg.norm(v)**2 * v\n",
    "print(\"k. Projection of u onto v:\", proj_uv)\n",
    "\n",
    "# l. Projection of w onto v\n",
    "proj_wv = np.dot(w, v) / np.linalg.norm(v)**2 * v\n",
    "print(\"l. Projection of w onto v:\", proj_wv)\n",
    "\n",
    "# m. Projection of u onto w\n",
    "proj_uw = np.dot(u, w) / np.linalg.norm(w)**2 * w\n",
    "print(\"m. Projection of u onto w:\", proj_uw)"
   ]
  },
  {
   "cell_type": "markdown",
   "id": "dc95f084",
   "metadata": {},
   "source": [
    "-- Latex Format --"
   ]
  },
  {
   "cell_type": "markdown",
   "id": "28f1dd83",
   "metadata": {},
   "source": []
  },
  {
   "cell_type": "markdown",
   "id": "dd08dc51",
   "metadata": {},
   "source": [
    "<br><br>4. Normalize each vector:<br>\n",
    "a. $\\textbf{u}$ = (5,-7).<br>\n",
    "b. $\\textbf{v}$ = (1,2,-2,4).<br>\n",
    "c. $\\textbf{w} = (\\frac{1}{2},\\frac{-1}{3},\\frac{3}{4})$.<br>\n",
    "<br>"
   ]
  },
  {
   "cell_type": "markdown",
   "id": "60384f59",
   "metadata": {},
   "source": [
    "-- Pythonic Solution --"
   ]
  },
  {
   "cell_type": "code",
   "execution_count": null,
   "id": "8283103a",
   "metadata": {},
   "outputs": [],
   "source": [
    "import numpy as np\n",
    "\n",
    "# Define the vectors\n",
    "u = np.array([5, -7])\n",
    "v = np.array([1, 2, -2, 4])\n",
    "w = np.array([1/2, -1/3, 3/4])\n",
    "\n",
    "# a. Normalize u\n",
    "normalized_u = u / np.linalg.norm(u)\n",
    "print(\"a. Normalized u:\", normalized_u)\n",
    "\n",
    "# b. Normalize v\n",
    "normalized_v = v / np.linalg.norm(v)\n",
    "print(\"b. Normalized v:\", normalized_v)\n",
    "\n",
    "# c. Normalize w\n",
    "normalized_w = w / np.linalg.norm(w)\n",
    "print(\"c. Normalized w:\", normalized_w)\n"
   ]
  },
  {
   "cell_type": "markdown",
   "id": "15892b3f",
   "metadata": {},
   "source": [
    "-- Latex Format --"
   ]
  },
  {
   "cell_type": "markdown",
   "id": "49250251",
   "metadata": {},
   "source": []
  },
  {
   "cell_type": "markdown",
   "id": "158ea933",
   "metadata": {},
   "source": [
    "<br><br>5. Let $\\textbf{u} = (1,2,-2)$,$\\textbf{v} = (3,-12,4)$ and a scalar $k = -3$: <br>\n",
    "Find $||u||, ||v||, ||u+v||, ||ku||$.<br>"
   ]
  },
  {
   "cell_type": "markdown",
   "id": "4a19878c",
   "metadata": {},
   "source": [
    "-- Pythonic Solution --"
   ]
  },
  {
   "cell_type": "code",
   "execution_count": null,
   "id": "124c557a",
   "metadata": {},
   "outputs": [],
   "source": [
    "import numpy as np\n",
    "\n",
    "# Define the vectors\n",
    "u = np.array([1, 2, -2])\n",
    "v = np.array([3, -12, 4])\n",
    "k = -3\n",
    "\n",
    "# Calculate ||u||\n",
    "norm_u = np.linalg.norm(u)\n",
    "print(\"||u||:\", norm_u)\n",
    "\n",
    "# Calculate ||v||\n",
    "norm_v = np.linalg.norm(v)\n",
    "print(\"||v||:\", norm_v)\n",
    "\n",
    "# Calculate ||u + v||\n",
    "norm_u_plus_v = np.linalg.norm(u + v)\n",
    "print(\"||u + v||:\", norm_u_plus_v)\n",
    "\n",
    "# Calculate ||ku||\n",
    "norm_ku = np.linalg.norm(k * u)\n",
    "print(\"||ku||:\", norm_ku)\n"
   ]
  },
  {
   "cell_type": "markdown",
   "id": "c0dee26c",
   "metadata": {},
   "source": [
    "-- Latex Format --"
   ]
  },
  {
   "cell_type": "markdown",
   "id": "dba9f6eb",
   "metadata": {},
   "source": []
  },
  {
   "cell_type": "markdown",
   "id": "2a977f5f",
   "metadata": {},
   "source": [
    "<br><br>6. Find k so that $\\textbf{u}  \\ and \\  \\textbf{v}$ are orthogonal.\n",
    "a. $\\textbf{u} = (3, k, -2), \\textbf{v} = (6, -4, -3)$.<br>\n",
    "b. $\\textbf{u} = (5,k,-4,2), \\textbf{v} = (1,-3,2,2k)$.<br>\n",
    "c. $\\textbf{u} = (1,7,k+2,-2), \\textbf{v} = (3, k, -3,k)$.<br>"
   ]
  },
  {
   "cell_type": "markdown",
   "id": "02c703c0",
   "metadata": {},
   "source": [
    "-- Pythonic Solution --"
   ]
  },
  {
   "cell_type": "markdown",
   "id": "4fbce019",
   "metadata": {},
   "source": [
    "a. u = (3, k, -2), v = (6, -4, -3)"
   ]
  },
  {
   "cell_type": "code",
   "execution_count": null,
   "id": "a53de0fa",
   "metadata": {},
   "outputs": [],
   "source": [
    "import sympy as sp\n",
    "\n",
    "# Define variables\n",
    "k_a = sp.symbols('k')\n",
    "u_a = sp.Matrix([3, k_a, -2])\n",
    "v_a = sp.Matrix([6, -4, -3])\n",
    "\n",
    "# Set up the equation for orthogonality\n",
    "equation_a = sp.Eq(u_a.dot(v_a), 0)\n",
    "\n",
    "# Solve for k\n",
    "solution_a = sp.solve(equation_a, k_a)\n",
    "print(\"a. Value of k for orthogonality:\", solution_a)\n"
   ]
  },
  {
   "cell_type": "markdown",
   "id": "2eb924a9",
   "metadata": {},
   "source": [
    "b. u = (5, k, -4, 2), v = (1, -3, 2, 2k)"
   ]
  },
  {
   "cell_type": "code",
   "execution_count": null,
   "id": "9052b9b2",
   "metadata": {},
   "outputs": [],
   "source": [
    "# Define variables\n",
    "k_b = sp.symbols('k')\n",
    "u_b = sp.Matrix([5, k_b, -4, 2])\n",
    "v_b = sp.Matrix([1, -3, 2, 2*k_b])\n",
    "\n",
    "# Set up the equation for orthogonality\n",
    "equation_b = sp.Eq(u_b.dot(v_b), 0)\n",
    "\n",
    "# Solve for k\n",
    "solution_b = sp.solve(equation_b, k_b)\n",
    "print(\"b. Value of k for orthogonality:\", solution_b)\n"
   ]
  },
  {
   "cell_type": "markdown",
   "id": "faedf15d",
   "metadata": {},
   "source": [
    "c. u = (1, 7, k+2, 2), v = (3, k, -3, k)"
   ]
  },
  {
   "cell_type": "code",
   "execution_count": null,
   "id": "ddd840a3",
   "metadata": {},
   "outputs": [],
   "source": [
    "# Define variables\n",
    "k_c = sp.symbols('k')\n",
    "u_c = sp.Matrix([1, 7, k_c+2, -2])\n",
    "v_c = sp.Matrix([3, k_c, -3, k_c])\n",
    "\n",
    "# Set up the equation for orthogonality\n",
    "equation_c = sp.Eq(u_c.dot(v_c), 0)\n",
    "\n",
    "# Solve for k\n",
    "solution_c = sp.solve(equation_c, k_c)\n",
    "print(\"c. Value of k for orthogonality:\", solution_c)\n"
   ]
  }
 ],
 "metadata": {
  "kernelspec": {
   "display_name": "Python 3 (ipykernel)",
   "language": "python",
   "name": "python3"
  },
  "language_info": {
   "codemirror_mode": {
    "name": "ipython",
    "version": 3
   },
   "file_extension": ".py",
   "mimetype": "text/x-python",
   "name": "python",
   "nbconvert_exporter": "python",
   "pygments_lexer": "ipython3",
   "version": "3.11.5"
  }
 },
 "nbformat": 4,
 "nbformat_minor": 5
}
